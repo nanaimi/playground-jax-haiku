{
 "cells": [
  {
   "cell_type": "code",
   "execution_count": 1,
   "id": "c34689f9-e25d-4e16-a2ff-af1c26203332",
   "metadata": {},
   "outputs": [],
   "source": [
    "import haiku as hk\n",
    "import jax\n",
    "import jax.numpy as jnp\n",
    "import numpy as np"
   ]
  },
  {
   "cell_type": "markdown",
   "id": "74e23b93-a9d7-414e-bda5-d4f324c97aa9",
   "metadata": {},
   "source": [
    "Haiku modules are Python objects that hold references to their own parameters, other modules, and methods that apply functions on user inputs. \n",
    "\n",
    "JAX operates on pure function transformations, Haiku modules cannot be instantiated verbatim. --> modules need to be wrapped into pure function transformations.\n",
    "\n",
    "Haiku provides a simple function transformation: _hk.transform_. Turns functions that use these object-oriented, functionally “impure” modules into pure functions that can be used with JAX."
   ]
  },
  {
   "cell_type": "code",
   "execution_count": 2,
   "id": "43c61951-13a2-4d61-9b94-c4b0c69a4c45",
   "metadata": {},
   "outputs": [],
   "source": [
    "# Example class, 1 FC linear layer\n",
    "class MyLinear1(hk.Module): # inherits from hk.Module\n",
    "\n",
    "  def __init__(self, output_size, name=None):\n",
    "    super().__init__(name=name)\n",
    "    self.output_size = output_size\n",
    "\n",
    "  def __call__(self, x):\n",
    "    j, k = x.shape[-1], self.output_size # input size, output size\n",
    "    w_init = hk.initializers.TruncatedNormal(1. / np.sqrt(j)) # weight initialization\n",
    "    w = hk.get_parameter(\"w\", shape=[j, k], dtype=x.dtype, init=w_init)\n",
    "    b = hk.get_parameter(\"b\", shape=[k], dtype=x.dtype, init=jnp.ones)\n",
    "    return jnp.dot(x, w) + b"
   ]
  },
  {
   "cell_type": "code",
   "execution_count": 10,
   "id": "659fdc60-12c0-4f8e-b278-ec90968d7504",
   "metadata": {},
   "outputs": [],
   "source": [
    "# wrap example class function\n",
    "def _forward_fn_linear1(x):\n",
    "  module = MyLinear1(output_size=2)\n",
    "  return module(x)\n",
    "\n",
    "# pass function to hk.transform\n",
    "forward_linear1 = hk.transform(_forward_fn_linear1)"
   ]
  },
  {
   "cell_type": "code",
   "execution_count": 11,
   "id": "475c082e-629d-441d-8aa6-30851a0d156e",
   "metadata": {},
   "outputs": [
    {
     "data": {
      "text/plain": [
       "\u001b[0;31mType:\u001b[0m        Transformed\n",
       "\u001b[0;31mString form:\u001b[0m Transformed(init=<function without_state.<locals>.init_fn at 0x11138cdc0>, apply=<function without_state.<locals>.apply_fn at 0x111417040>)\n",
       "\u001b[0;31mLength:\u001b[0m      2\n",
       "\u001b[0;31mFile:\u001b[0m        ~/miniconda3/envs/safe_sim2real/lib/python3.9/site-packages/haiku/_src/transform.py\n",
       "\u001b[0;31mSource:\u001b[0m     \n",
       "\u001b[0;32mclass\u001b[0m \u001b[0mTransformed\u001b[0m\u001b[0;34m(\u001b[0m\u001b[0mNamedTuple\u001b[0m\u001b[0;34m)\u001b[0m\u001b[0;34m:\u001b[0m\u001b[0;34m\u001b[0m\n",
       "\u001b[0;34m\u001b[0m  \u001b[0;34m\"\"\"Holds a pair of pure functions.\u001b[0m\n",
       "\u001b[0;34m\u001b[0m\n",
       "\u001b[0;34m  Attributes:\u001b[0m\n",
       "\u001b[0;34m    init: A pure function: ``params = init(rng, *a, **k)``\u001b[0m\n",
       "\u001b[0;34m    apply: A pure function: ``out = apply(params, rng, *a, **k)``\u001b[0m\n",
       "\u001b[0;34m  \"\"\"\u001b[0m\u001b[0;34m\u001b[0m\n",
       "\u001b[0;34m\u001b[0m\u001b[0;34m\u001b[0m\n",
       "\u001b[0;34m\u001b[0m  \u001b[0;31m# Args: [Optional[PRNGKey], ...]\u001b[0m\u001b[0;34m\u001b[0m\n",
       "\u001b[0;34m\u001b[0m  \u001b[0minit\u001b[0m\u001b[0;34m:\u001b[0m \u001b[0mCallable\u001b[0m\u001b[0;34m[\u001b[0m\u001b[0;34m...\u001b[0m\u001b[0;34m,\u001b[0m \u001b[0mhk\u001b[0m\u001b[0;34m.\u001b[0m\u001b[0mParams\u001b[0m\u001b[0;34m]\u001b[0m\u001b[0;34m\u001b[0m\n",
       "\u001b[0;34m\u001b[0m\u001b[0;34m\u001b[0m\n",
       "\u001b[0;34m\u001b[0m  \u001b[0;31m# Args: [Params, Optional[PRNGKey], ...]\u001b[0m\u001b[0;34m\u001b[0m\n",
       "\u001b[0;34m\u001b[0m  \u001b[0mapply\u001b[0m\u001b[0;34m:\u001b[0m \u001b[0mCallable\u001b[0m\u001b[0;34m[\u001b[0m\u001b[0;34m...\u001b[0m\u001b[0;34m,\u001b[0m \u001b[0mAny\u001b[0m\u001b[0;34m]\u001b[0m\u001b[0;34m\u001b[0m\u001b[0;34m\u001b[0m\u001b[0m\n"
      ]
     },
     "metadata": {},
     "output_type": "display_data"
    }
   ],
   "source": [
    "?? forward_linear1"
   ]
  },
  {
   "cell_type": "code",
   "execution_count": 12,
   "id": "a7f41ab4-f6da-46ad-beb1-3b32174e141e",
   "metadata": {},
   "outputs": [
    {
     "name": "stdout",
     "output_type": "stream",
     "text": [
      "{'my_linear1': {'w': Array([[-0.30350363,  0.5123802 ],\n",
      "       [ 0.08009142, -0.3163005 ],\n",
      "       [ 0.6056666 ,  0.5820702 ]], dtype=float32), 'b': Array([1., 1.], dtype=float32)}}\n"
     ]
    }
   ],
   "source": [
    "dummy_x = jnp.array([[1., 2., 3.]])\n",
    "rng_key = jax.random.PRNGKey(42)\n",
    "\n",
    "params = forward_linear1.init(rng=rng_key, x=dummy_x)\n",
    "print(params)"
   ]
  },
  {
   "cell_type": "code",
   "execution_count": 13,
   "id": "dc019a7c-3916-4aa6-a03e-884bda415743",
   "metadata": {},
   "outputs": [
    {
     "name": "stdout",
     "output_type": "stream",
     "text": [
      "Output 1 : [[2.6736789 2.6259897]]\n",
      "Output 2 (same as output 1): [[2.6736789 2.6259897]]\n",
      "Output 3 : [[3.820442 4.960439]\n",
      " [4.967205 7.294889]]\n"
     ]
    }
   ],
   "source": [
    "sample_x = jnp.array([[1., 2., 3.]])\n",
    "sample_x_2 = jnp.array([[4., 5., 6.], [7., 8., 9.]])\n",
    "\n",
    "output_1 = forward_linear1.apply(params=params, x=sample_x, rng=rng_key)\n",
    "# Outputs are identical for given inputs since the forward inference is non-stochastic.\n",
    "output_2 = forward_linear1.apply(params=params, x=sample_x, rng=rng_key)\n",
    "\n",
    "output_3 = forward_linear1.apply(params=params, x=sample_x_2, rng=rng_key)\n",
    "\n",
    "print(f'Output 1 : {output_1}')\n",
    "print(f'Output 2 (same as output 1): {output_2}')\n",
    "print(f'Output 3 : {output_3}')"
   ]
  },
  {
   "cell_type": "markdown",
   "id": "0664a3a0-c449-47d8-a956-844fc615a4bc",
   "metadata": {},
   "source": [
    "Inference without random key\n",
    "\n",
    "The module that we built is inherently non-stochastic. In that case, passing a random key to the apply method seems redundant. Haiku offers another transformation hk.without_apply_rng which can be further wrapped around our hk.transform method."
   ]
  },
  {
   "cell_type": "code",
   "execution_count": 20,
   "id": "6374b1a6-38b8-43e8-8a9a-448ace4a4ef4",
   "metadata": {},
   "outputs": [
    {
     "name": "stdout",
     "output_type": "stream",
     "text": [
      "Output without random key in forward pass \n",
      " [[2.6736789 2.6259897]]\n"
     ]
    }
   ],
   "source": [
    "# if deterministic module, wrap transform object with non-probabilistic\n",
    "forward_without_rng = hk.without_apply_rng(hk.transform(_forward_fn_linear1))\n",
    "\n",
    "params = forward_without_rng.init(rng=rng_key, x=sample_x)\n",
    "output = forward_without_rng.apply(x=sample_x, params=params)\n",
    "\n",
    "print(f'Output without random key in forward pass \\n {output_1}')"
   ]
  },
  {
   "cell_type": "code",
   "execution_count": 24,
   "id": "980307d7-acb0-4eca-912e-068de91b91fa",
   "metadata": {},
   "outputs": [
    {
     "name": "stdout",
     "output_type": "stream",
     "text": [
      "Mutated params \n",
      " : {'my_linear1': {'b': Array([2., 2.], dtype=float32), 'w': Array([[0.69649637, 1.5123801 ],\n",
      "       [1.0800915 , 0.6836995 ],\n",
      "       [1.6056666 , 1.5820701 ]], dtype=float32)}}\n",
      "Output with mutated params \n",
      " [[9.673679 9.62599 ]]\n"
     ]
    }
   ],
   "source": [
    "# Change the parameters as you would when performing a gradient update\n",
    "mutated_params = jax.tree_util.tree_map(lambda x: x+1., params)\n",
    "print(f'Mutated params \\n : {mutated_params}')\n",
    "mutated_output = forward_without_rng.apply(x=sample_x, params=mutated_params)\n",
    "print(f'Output with mutated params \\n {mutated_output}')"
   ]
  },
  {
   "cell_type": "markdown",
   "id": "06193069-0bc4-4f41-8679-27933d0cdcbb",
   "metadata": {},
   "source": [
    "### Stateful inference in Haiku\n",
    "\n",
    "For some modules you might want to maintain and carry over the internal state across function calls. Here, we demonstrate a simple example, where we declare a state variable counter within our Haiku transformation which gets updated on each call to the function. Note that we didn’t explicitly instantiate this as a Haiku module (the same could be replicated as a hk module as shown earlier)."
   ]
  },
  {
   "cell_type": "code",
   "execution_count": 25,
   "id": "612df55a-3899-481f-832b-3feb01af68dd",
   "metadata": {},
   "outputs": [
    {
     "name": "stdout",
     "output_type": "stream",
     "text": [
      "Initial params:\n",
      "{'~': {'multiplier': Array([1.], dtype=float32)}}\n",
      "Initial state:\n",
      "{'~': {'counter': Array(1, dtype=int32)}}\n",
      "##########\n",
      "After 1 iterations:\n",
      "Output: [[6.]]\n",
      "State: {'~': {'counter': Array(2, dtype=int32)}}\n",
      "##########\n",
      "After 2 iterations:\n",
      "Output: [[7.]]\n",
      "State: {'~': {'counter': Array(3, dtype=int32)}}\n",
      "##########\n",
      "After 3 iterations:\n",
      "Output: [[8.]]\n",
      "State: {'~': {'counter': Array(4, dtype=int32)}}\n",
      "##########\n"
     ]
    }
   ],
   "source": [
    "def stateful_f(x):\n",
    "  counter = hk.get_state(\"counter\", shape=[], dtype=jnp.int32, init=jnp.ones)\n",
    "  multiplier = hk.get_parameter('multiplier', shape=[1,], dtype=x.dtype, init=jnp.ones)\n",
    "  hk.set_state(\"counter\", counter + 1)\n",
    "  output = x + multiplier * counter\n",
    "  return output\n",
    "\n",
    "stateful_forward = hk.without_apply_rng(hk.transform_with_state(stateful_f))\n",
    "sample_x = jnp.array([[5., ]])\n",
    "params, state = stateful_forward.init(x=sample_x, rng=rng_key)\n",
    "print(f'Initial params:\\n{params}\\nInitial state:\\n{state}')\n",
    "print('##########')\n",
    "for i in range(3):\n",
    "  output, state = stateful_forward.apply(params, state, x=sample_x)\n",
    "  print(f'After {i+1} iterations:\\nOutput: {output}\\nState: {state}')\n",
    "  print('##########')\n"
   ]
  },
  {
   "cell_type": "code",
   "execution_count": 26,
   "id": "85aaff7b-a391-46b3-a2fe-44c1c6bb3368",
   "metadata": {},
   "outputs": [
    {
     "data": {
      "text/plain": [
       "{'custom_linear/~/hk_internal_linear/~/linear_0': {'w': Array([[ 1.51595   , -0.23353337]], dtype=float32),\n",
       "  'b': Array([0., 0.], dtype=float32)},\n",
       " 'custom_linear/~/hk_internal_linear/~/linear_1': {'w': Array([[-0.22075887, -0.27375957,  0.5931483 ],\n",
       "         [ 0.7818068 ,  0.72626334, -0.6860752 ]], dtype=float32),\n",
       "  'b': Array([0., 0., 0.], dtype=float32)},\n",
       " 'custom_linear/~/old_linear': {'w': Array([[ 0.28584382,  0.31626168],\n",
       "         [ 0.2335775 , -0.4827032 ],\n",
       "         [-0.14647584, -0.7185701 ]], dtype=float32),\n",
       "  'b': Array([1., 1.], dtype=float32)}}"
      ]
     },
     "execution_count": 26,
     "metadata": {},
     "output_type": "execute_result"
    }
   ],
   "source": [
    "# See: https://dm-haiku.readthedocs.io/en/latest/api.html#common-modules\n",
    "\n",
    "class MyModuleCustom(hk.Module):\n",
    "  def __init__(self, output_size=2, name='custom_linear'):\n",
    "    super().__init__(name=name)\n",
    "    self._internal_linear_1 = hk.nets.MLP(output_sizes=[2, 3], name='hk_internal_linear')\n",
    "    self._internal_linear_2 = MyLinear1(output_size=output_size, name='old_linear')\n",
    "\n",
    "  def __call__(self, x):\n",
    "    return self._internal_linear_2(self._internal_linear_1(x))\n",
    "\n",
    "def _custom_forward_fn(x):\n",
    "  module = MyModuleCustom()\n",
    "  return module(x)\n",
    "\n",
    "custom_forward_without_rng = hk.without_apply_rng(hk.transform(_custom_forward_fn))\n",
    "params = custom_forward_without_rng.init(rng=rng_key, x=sample_x)\n",
    "params"
   ]
  },
  {
   "cell_type": "code",
   "execution_count": 34,
   "id": "369d1eb2-acf4-4e59-9cca-28d5617cda2b",
   "metadata": {},
   "outputs": [
    {
     "name": "stdout",
     "output_type": "stream",
     "text": [
      "INIT:\n",
      "Bernoullis are  : (Array(True, dtype=bool), Array(False, dtype=bool))\n",
      "APPLY:\n",
      "Bernoullis are  : (Array(True, dtype=bool), Array(False, dtype=bool))\n"
     ]
    }
   ],
   "source": [
    "class HkRandom2(hk.Module):\n",
    "  def __init__(self, rate=0.5):\n",
    "    super().__init__()\n",
    "    self.rate = rate\n",
    "\n",
    "  def __call__(self, x):\n",
    "    key1 = hk.next_rng_key()\n",
    "    return jax.random.bernoulli(key1, 1.0 - self.rate, shape=x.shape)\n",
    "\n",
    "\n",
    "class HkRandomNest(hk.Module):\n",
    "  def __init__(self, rate=0.5):\n",
    "    super().__init__()\n",
    "    self.rate = rate\n",
    "    self._another_random_module = HkRandom2()\n",
    "\n",
    "  def __call__(self, x):\n",
    "    key2 = hk.next_rng_key()\n",
    "    p1 = self._another_random_module(x)\n",
    "    p2 = jax.random.bernoulli(key2, 1.0 - self.rate, shape=x.shape)\n",
    "    print(f'Bernoullis are  : {p1, p2}')\n",
    "\n",
    "# Note that the modules that are stochastic cannot be wrapped with hk.without_apply_rng()\n",
    "forward = hk.transform(lambda x: HkRandomNest()(x))\n",
    "\n",
    "x = jnp.array(1.)\n",
    "print(\"INIT:\")\n",
    "params = forward.init(rng_key, x=x)\n",
    "print(\"APPLY:\")\n",
    "prediction = forward.apply(params, x=x, rng=rng_key)"
   ]
  },
  {
   "cell_type": "code",
   "execution_count": 35,
   "id": "bd3b49f1-2fce-4e46-8bdd-db82eae33e74",
   "metadata": {},
   "outputs": [
    {
     "name": "stdout",
     "output_type": "stream",
     "text": [
      "Bernoullis are  : (Array(True, dtype=bool), Array(False, dtype=bool))\n",
      "Bernoullis are  : (Array(True, dtype=bool), Array(False, dtype=bool))\n",
      "Bernoullis are  : (Array(True, dtype=bool), Array(False, dtype=bool))\n"
     ]
    }
   ],
   "source": [
    "for _ in range(3):\n",
    "  forward.apply(params, x=x, rng=rng_key)"
   ]
  },
  {
   "cell_type": "code",
   "execution_count": 36,
   "id": "ee46eb90-2a28-4eec-b870-53fd2ed29e11",
   "metadata": {},
   "outputs": [
    {
     "name": "stdout",
     "output_type": "stream",
     "text": [
      "Bernoullis are  : (Array(False, dtype=bool), Array(False, dtype=bool))\n",
      "Bernoullis are  : (Array(True, dtype=bool), Array(False, dtype=bool))\n",
      "Bernoullis are  : (Array(False, dtype=bool), Array(False, dtype=bool))\n"
     ]
    }
   ],
   "source": [
    "for _ in range(3):\n",
    "  rng_key, apply_rng_key = jax.random.split(rng_key)\n",
    "  forward.apply(params, x=x, rng=apply_rng_key)"
   ]
  },
  {
   "cell_type": "code",
   "execution_count": 38,
   "id": "cc775bc4-6942-46aa-9146-aeb2c0a7ee52",
   "metadata": {},
   "outputs": [
    {
     "name": "stdout",
     "output_type": "stream",
     "text": [
      "Bernoullis are  : (Array(False, dtype=bool), Array(True, dtype=bool))\n",
      "Bernoullis are  : (Array(False, dtype=bool), Array(False, dtype=bool))\n",
      "Bernoullis are  : (Array(False, dtype=bool), Array(True, dtype=bool))\n"
     ]
    }
   ],
   "source": [
    "rng_sequence = hk.PRNGSequence(rng_key)\n",
    "for _ in range(3):\n",
    "  forward.apply(params, x=x, rng=next(rng_sequence))\n"
   ]
  },
  {
   "cell_type": "code",
   "execution_count": 39,
   "id": "d25ff295-ec4c-4269-aeca-20f59d300763",
   "metadata": {},
   "outputs": [
    {
     "data": {
      "text/plain": [
       "\u001b[0;31mSignature:\u001b[0m\n",
       "\u001b[0mjax\u001b[0m\u001b[0;34m.\u001b[0m\u001b[0mvmap\u001b[0m\u001b[0;34m(\u001b[0m\u001b[0;34m\u001b[0m\n",
       "\u001b[0;34m\u001b[0m    \u001b[0mfun\u001b[0m\u001b[0;34m:\u001b[0m \u001b[0;34m'F'\u001b[0m\u001b[0;34m,\u001b[0m\u001b[0;34m\u001b[0m\n",
       "\u001b[0;34m\u001b[0m    \u001b[0min_axes\u001b[0m\u001b[0;34m:\u001b[0m \u001b[0;34m'Union[int, Sequence[Any]]'\u001b[0m \u001b[0;34m=\u001b[0m \u001b[0;36m0\u001b[0m\u001b[0;34m,\u001b[0m\u001b[0;34m\u001b[0m\n",
       "\u001b[0;34m\u001b[0m    \u001b[0mout_axes\u001b[0m\u001b[0;34m:\u001b[0m \u001b[0;34m'Any'\u001b[0m \u001b[0;34m=\u001b[0m \u001b[0;36m0\u001b[0m\u001b[0;34m,\u001b[0m\u001b[0;34m\u001b[0m\n",
       "\u001b[0;34m\u001b[0m    \u001b[0maxis_name\u001b[0m\u001b[0;34m:\u001b[0m \u001b[0;34m'Optional[Hashable]'\u001b[0m \u001b[0;34m=\u001b[0m \u001b[0;32mNone\u001b[0m\u001b[0;34m,\u001b[0m\u001b[0;34m\u001b[0m\n",
       "\u001b[0;34m\u001b[0m    \u001b[0maxis_size\u001b[0m\u001b[0;34m:\u001b[0m \u001b[0;34m'Optional[int]'\u001b[0m \u001b[0;34m=\u001b[0m \u001b[0;32mNone\u001b[0m\u001b[0;34m,\u001b[0m\u001b[0;34m\u001b[0m\n",
       "\u001b[0;34m\u001b[0m    \u001b[0mspmd_axis_name\u001b[0m\u001b[0;34m:\u001b[0m \u001b[0;34m'Optional[Hashable]'\u001b[0m \u001b[0;34m=\u001b[0m \u001b[0;32mNone\u001b[0m\u001b[0;34m,\u001b[0m\u001b[0;34m\u001b[0m\n",
       "\u001b[0;34m\u001b[0m\u001b[0;34m)\u001b[0m \u001b[0;34m->\u001b[0m \u001b[0;34m'F'\u001b[0m\u001b[0;34m\u001b[0m\u001b[0;34m\u001b[0m\u001b[0m\n",
       "\u001b[0;31mSource:\u001b[0m   \n",
       "\u001b[0;32mdef\u001b[0m \u001b[0mvmap\u001b[0m\u001b[0;34m(\u001b[0m\u001b[0mfun\u001b[0m\u001b[0;34m:\u001b[0m \u001b[0mF\u001b[0m\u001b[0;34m,\u001b[0m\u001b[0;34m\u001b[0m\n",
       "\u001b[0;34m\u001b[0m         \u001b[0min_axes\u001b[0m\u001b[0;34m:\u001b[0m \u001b[0mUnion\u001b[0m\u001b[0;34m[\u001b[0m\u001b[0mint\u001b[0m\u001b[0;34m,\u001b[0m \u001b[0mSequence\u001b[0m\u001b[0;34m[\u001b[0m\u001b[0mAny\u001b[0m\u001b[0;34m]\u001b[0m\u001b[0;34m]\u001b[0m \u001b[0;34m=\u001b[0m \u001b[0;36m0\u001b[0m\u001b[0;34m,\u001b[0m\u001b[0;34m\u001b[0m\n",
       "\u001b[0;34m\u001b[0m         \u001b[0mout_axes\u001b[0m\u001b[0;34m:\u001b[0m \u001b[0mAny\u001b[0m \u001b[0;34m=\u001b[0m \u001b[0;36m0\u001b[0m\u001b[0;34m,\u001b[0m\u001b[0;34m\u001b[0m\n",
       "\u001b[0;34m\u001b[0m         \u001b[0maxis_name\u001b[0m\u001b[0;34m:\u001b[0m \u001b[0mOptional\u001b[0m\u001b[0;34m[\u001b[0m\u001b[0mHashable\u001b[0m\u001b[0;34m]\u001b[0m \u001b[0;34m=\u001b[0m \u001b[0;32mNone\u001b[0m\u001b[0;34m,\u001b[0m\u001b[0;34m\u001b[0m\n",
       "\u001b[0;34m\u001b[0m         \u001b[0maxis_size\u001b[0m\u001b[0;34m:\u001b[0m \u001b[0mOptional\u001b[0m\u001b[0;34m[\u001b[0m\u001b[0mint\u001b[0m\u001b[0;34m]\u001b[0m \u001b[0;34m=\u001b[0m \u001b[0;32mNone\u001b[0m\u001b[0;34m,\u001b[0m\u001b[0;34m\u001b[0m\n",
       "\u001b[0;34m\u001b[0m         \u001b[0mspmd_axis_name\u001b[0m\u001b[0;34m:\u001b[0m \u001b[0mOptional\u001b[0m\u001b[0;34m[\u001b[0m\u001b[0mHashable\u001b[0m\u001b[0;34m]\u001b[0m \u001b[0;34m=\u001b[0m \u001b[0;32mNone\u001b[0m\u001b[0;34m)\u001b[0m \u001b[0;34m->\u001b[0m \u001b[0mF\u001b[0m\u001b[0;34m:\u001b[0m\u001b[0;34m\u001b[0m\n",
       "\u001b[0;34m\u001b[0m  \u001b[0;34m\"\"\"Vectorizing map. Creates a function which maps ``fun`` over argument axes.\u001b[0m\n",
       "\u001b[0;34m\u001b[0m\n",
       "\u001b[0;34m  Args:\u001b[0m\n",
       "\u001b[0;34m    fun: Function to be mapped over additional axes.\u001b[0m\n",
       "\u001b[0;34m    in_axes: An integer, None, or (nested) standard Python container\u001b[0m\n",
       "\u001b[0;34m      (tuple/list/dict) thereof specifying which input array axes to map over.\u001b[0m\n",
       "\u001b[0;34m\u001b[0m\n",
       "\u001b[0;34m      If each positional argument to ``fun`` is an array, then ``in_axes`` can\u001b[0m\n",
       "\u001b[0;34m      be an integer, a None, or a tuple of integers and Nones with length equal\u001b[0m\n",
       "\u001b[0;34m      to the number of positional arguments to ``fun``. An integer or ``None``\u001b[0m\n",
       "\u001b[0;34m      indicates which array axis to map over for all arguments (with ``None``\u001b[0m\n",
       "\u001b[0;34m      indicating not to map any axis), and a tuple indicates which axis to map\u001b[0m\n",
       "\u001b[0;34m      for each corresponding positional argument. Axis integers must be in the\u001b[0m\n",
       "\u001b[0;34m      range ``[-ndim, ndim)`` for each array, where ``ndim`` is the number of\u001b[0m\n",
       "\u001b[0;34m      dimensions (axes) of the corresponding input array.\u001b[0m\n",
       "\u001b[0;34m\u001b[0m\n",
       "\u001b[0;34m      If the positional arguments to ``fun`` are container (pytree) types, the\u001b[0m\n",
       "\u001b[0;34m      corresponding element of ``in_axes`` can itself be a matching container,\u001b[0m\n",
       "\u001b[0;34m      so that distinct array axes can be mapped for different container\u001b[0m\n",
       "\u001b[0;34m      elements. ``in_axes`` must be a container tree prefix of the positional\u001b[0m\n",
       "\u001b[0;34m      argument tuple passed to ``fun``. See this link for more detail:\u001b[0m\n",
       "\u001b[0;34m      https://jax.readthedocs.io/en/latest/pytrees.html#applying-optional-parameters-to-pytrees\u001b[0m\n",
       "\u001b[0;34m\u001b[0m\n",
       "\u001b[0;34m      Either ``axis_size`` must be provided explicitly, or at least one\u001b[0m\n",
       "\u001b[0;34m      positional argument must have ``in_axes`` not None. The sizes of the\u001b[0m\n",
       "\u001b[0;34m      mapped input axes for all mapped positional arguments must all be equal.\u001b[0m\n",
       "\u001b[0;34m\u001b[0m\n",
       "\u001b[0;34m      Arguments passed as keywords are always mapped over their leading axis\u001b[0m\n",
       "\u001b[0;34m      (i.e. axis index 0).\u001b[0m\n",
       "\u001b[0;34m\u001b[0m\n",
       "\u001b[0;34m      See below for examples.\u001b[0m\n",
       "\u001b[0;34m\u001b[0m\n",
       "\u001b[0;34m    out_axes: An integer, None, or (nested) standard Python container\u001b[0m\n",
       "\u001b[0;34m      (tuple/list/dict) thereof indicating where the mapped axis should appear\u001b[0m\n",
       "\u001b[0;34m      in the output. All outputs with a mapped axis must have a non-None\u001b[0m\n",
       "\u001b[0;34m      ``out_axes`` specification. Axis integers must be in the range ``[-ndim,\u001b[0m\n",
       "\u001b[0;34m      ndim)`` for each output array, where ``ndim`` is the number of dimensions\u001b[0m\n",
       "\u001b[0;34m      (axes) of the array returned by the :func:`vmap`-ed function, which is one\u001b[0m\n",
       "\u001b[0;34m      more than the number of dimensions (axes) of the corresponding array\u001b[0m\n",
       "\u001b[0;34m      returned by ``fun``.\u001b[0m\n",
       "\u001b[0;34m    axis_name: Optional, a hashable Python object used to identify the mapped\u001b[0m\n",
       "\u001b[0;34m      axis so that parallel collectives can be applied.\u001b[0m\n",
       "\u001b[0;34m    axis_size: Optional, an integer indicating the size of the axis to be\u001b[0m\n",
       "\u001b[0;34m      mapped. If not provided, the mapped axis size is inferred from arguments.\u001b[0m\n",
       "\u001b[0;34m\u001b[0m\n",
       "\u001b[0;34m  Returns:\u001b[0m\n",
       "\u001b[0;34m    Batched/vectorized version of ``fun`` with arguments that correspond to\u001b[0m\n",
       "\u001b[0;34m    those of ``fun``, but with extra array axes at positions indicated by\u001b[0m\n",
       "\u001b[0;34m    ``in_axes``, and a return value that corresponds to that of ``fun``, but\u001b[0m\n",
       "\u001b[0;34m    with extra array axes at positions indicated by ``out_axes``.\u001b[0m\n",
       "\u001b[0;34m\u001b[0m\n",
       "\u001b[0;34m  For example, we can implement a matrix-matrix product using a vector dot\u001b[0m\n",
       "\u001b[0;34m  product:\u001b[0m\n",
       "\u001b[0;34m\u001b[0m\n",
       "\u001b[0;34m  >>> import jax.numpy as jnp\u001b[0m\n",
       "\u001b[0;34m  >>>\u001b[0m\n",
       "\u001b[0;34m  >>> vv = lambda x, y: jnp.vdot(x, y)  #  ([a], [a]) -> []\u001b[0m\n",
       "\u001b[0;34m  >>> mv = vmap(vv, (0, None), 0)      #  ([b,a], [a]) -> [b]      (b is the mapped axis)\u001b[0m\n",
       "\u001b[0;34m  >>> mm = vmap(mv, (None, 1), 1)      #  ([b,a], [a,c]) -> [b,c]  (c is the mapped axis)\u001b[0m\n",
       "\u001b[0;34m\u001b[0m\n",
       "\u001b[0;34m  Here we use ``[a,b]`` to indicate an array with shape (a,b). Here are some\u001b[0m\n",
       "\u001b[0;34m  variants:\u001b[0m\n",
       "\u001b[0;34m\u001b[0m\n",
       "\u001b[0;34m  >>> mv1 = vmap(vv, (0, 0), 0)   #  ([b,a], [b,a]) -> [b]        (b is the mapped axis)\u001b[0m\n",
       "\u001b[0;34m  >>> mv2 = vmap(vv, (0, 1), 0)   #  ([b,a], [a,b]) -> [b]        (b is the mapped axis)\u001b[0m\n",
       "\u001b[0;34m  >>> mm2 = vmap(mv2, (1, 1), 0)  #  ([b,c,a], [a,c,b]) -> [c,b]  (c is the mapped axis)\u001b[0m\n",
       "\u001b[0;34m\u001b[0m\n",
       "\u001b[0;34m  Here's an example of using container types in ``in_axes`` to specify which\u001b[0m\n",
       "\u001b[0;34m  axes of the container elements to map over:\u001b[0m\n",
       "\u001b[0;34m\u001b[0m\n",
       "\u001b[0;34m  >>> A, B, C, D = 2, 3, 4, 5\u001b[0m\n",
       "\u001b[0;34m  >>> x = jnp.ones((A, B))\u001b[0m\n",
       "\u001b[0;34m  >>> y = jnp.ones((B, C))\u001b[0m\n",
       "\u001b[0;34m  >>> z = jnp.ones((C, D))\u001b[0m\n",
       "\u001b[0;34m  >>> def foo(tree_arg):\u001b[0m\n",
       "\u001b[0;34m  ...   x, (y, z) = tree_arg\u001b[0m\n",
       "\u001b[0;34m  ...   return jnp.dot(x, jnp.dot(y, z))\u001b[0m\n",
       "\u001b[0;34m  >>> tree = (x, (y, z))\u001b[0m\n",
       "\u001b[0;34m  >>> print(foo(tree))\u001b[0m\n",
       "\u001b[0;34m  [[12. 12. 12. 12. 12.]\u001b[0m\n",
       "\u001b[0;34m   [12. 12. 12. 12. 12.]]\u001b[0m\n",
       "\u001b[0;34m  >>> from jax import vmap\u001b[0m\n",
       "\u001b[0;34m  >>> K = 6  # batch size\u001b[0m\n",
       "\u001b[0;34m  >>> x = jnp.ones((K, A, B))  # batch axis in different locations\u001b[0m\n",
       "\u001b[0;34m  >>> y = jnp.ones((B, K, C))\u001b[0m\n",
       "\u001b[0;34m  >>> z = jnp.ones((C, D, K))\u001b[0m\n",
       "\u001b[0;34m  >>> tree = (x, (y, z))\u001b[0m\n",
       "\u001b[0;34m  >>> vfoo = vmap(foo, in_axes=((0, (1, 2)),))\u001b[0m\n",
       "\u001b[0;34m  >>> print(vfoo(tree).shape)\u001b[0m\n",
       "\u001b[0;34m  (6, 2, 5)\u001b[0m\n",
       "\u001b[0;34m\u001b[0m\n",
       "\u001b[0;34m  Here's another example using container types in ``in_axes``, this time a\u001b[0m\n",
       "\u001b[0;34m  dictionary, to specify the elements of the container to map over:\u001b[0m\n",
       "\u001b[0;34m\u001b[0m\n",
       "\u001b[0;34m  >>> dct = {'a': 0., 'b': jnp.arange(5.)}\u001b[0m\n",
       "\u001b[0;34m  >>> x = 1.\u001b[0m\n",
       "\u001b[0;34m  >>> def foo(dct, x):\u001b[0m\n",
       "\u001b[0;34m  ...  return dct['a'] + dct['b'] + x\u001b[0m\n",
       "\u001b[0;34m  >>> out = vmap(foo, in_axes=({'a': None, 'b': 0}, None))(dct, x)\u001b[0m\n",
       "\u001b[0;34m  >>> print(out)\u001b[0m\n",
       "\u001b[0;34m  [1. 2. 3. 4. 5.]\u001b[0m\n",
       "\u001b[0;34m\u001b[0m\n",
       "\u001b[0;34m  The results of a vectorized function can be mapped or unmapped. For example,\u001b[0m\n",
       "\u001b[0;34m  the function below returns a pair with the first element mapped and the second\u001b[0m\n",
       "\u001b[0;34m  unmapped. Only for unmapped results we can specify ``out_axes`` to be ``None``\u001b[0m\n",
       "\u001b[0;34m  (to keep it unmapped).\u001b[0m\n",
       "\u001b[0;34m\u001b[0m\n",
       "\u001b[0;34m  >>> print(vmap(lambda x, y: (x + y, y * 2.), in_axes=(0, None), out_axes=(0, None))(jnp.arange(2.), 4.))\u001b[0m\n",
       "\u001b[0;34m  (Array([4., 5.], dtype=float32), 8.0)\u001b[0m\n",
       "\u001b[0;34m\u001b[0m\n",
       "\u001b[0;34m  If the ``out_axes`` is specified for an unmapped result, the result is\u001b[0m\n",
       "\u001b[0;34m  broadcast across the mapped axis:\u001b[0m\n",
       "\u001b[0;34m\u001b[0m\n",
       "\u001b[0;34m  >>> print(vmap(lambda x, y: (x + y, y * 2.), in_axes=(0, None), out_axes=0)(jnp.arange(2.), 4.))\u001b[0m\n",
       "\u001b[0;34m  (Array([4., 5.], dtype=float32), Array([8., 8.], dtype=float32, weak_type=True))\u001b[0m\n",
       "\u001b[0;34m\u001b[0m\n",
       "\u001b[0;34m  If the ``out_axes`` is specified for a mapped result, the result is transposed\u001b[0m\n",
       "\u001b[0;34m  accordingly.\u001b[0m\n",
       "\u001b[0;34m\u001b[0m\n",
       "\u001b[0;34m  Finally, here's an example using ``axis_name`` together with collectives:\u001b[0m\n",
       "\u001b[0;34m\u001b[0m\n",
       "\u001b[0;34m  >>> xs = jnp.arange(3. * 4.).reshape(3, 4)\u001b[0m\n",
       "\u001b[0;34m  >>> print(vmap(lambda x: lax.psum(x, 'i'), axis_name='i')(xs))\u001b[0m\n",
       "\u001b[0;34m  [[12. 15. 18. 21.]\u001b[0m\n",
       "\u001b[0;34m   [12. 15. 18. 21.]\u001b[0m\n",
       "\u001b[0;34m   [12. 15. 18. 21.]]\u001b[0m\n",
       "\u001b[0;34m\u001b[0m\n",
       "\u001b[0;34m  See the :py:func:`jax.pmap` docstring for more examples involving collectives.\u001b[0m\n",
       "\u001b[0;34m  \"\"\"\u001b[0m\u001b[0;34m\u001b[0m\n",
       "\u001b[0;34m\u001b[0m  \u001b[0m_check_callable\u001b[0m\u001b[0;34m(\u001b[0m\u001b[0mfun\u001b[0m\u001b[0;34m)\u001b[0m\u001b[0;34m\u001b[0m\n",
       "\u001b[0;34m\u001b[0m  \u001b[0mdocstr\u001b[0m \u001b[0;34m=\u001b[0m \u001b[0;34m(\u001b[0m\u001b[0;34m\"Vectorized version of {fun}. Takes similar arguments as {fun} \"\u001b[0m\u001b[0;34m\u001b[0m\n",
       "\u001b[0;34m\u001b[0m            \u001b[0;34m\"but with additional array axes over which {fun} is mapped.\"\u001b[0m\u001b[0;34m)\u001b[0m\u001b[0;34m\u001b[0m\n",
       "\u001b[0;34m\u001b[0m  \u001b[0;32mif\u001b[0m \u001b[0mfun\u001b[0m\u001b[0;34m.\u001b[0m\u001b[0m__doc__\u001b[0m\u001b[0;34m:\u001b[0m\u001b[0;34m\u001b[0m\n",
       "\u001b[0;34m\u001b[0m    \u001b[0mdocstr\u001b[0m \u001b[0;34m+=\u001b[0m \u001b[0;34m\"\\n\\nOriginal documentation:\\n\\n\"\u001b[0m\u001b[0;34m\u001b[0m\n",
       "\u001b[0;34m\u001b[0m    \u001b[0mdocstr\u001b[0m \u001b[0;34m+=\u001b[0m \u001b[0mfun\u001b[0m\u001b[0;34m.\u001b[0m\u001b[0m__doc__\u001b[0m\u001b[0;34m\u001b[0m\n",
       "\u001b[0;34m\u001b[0m\u001b[0;34m\u001b[0m\n",
       "\u001b[0;34m\u001b[0m  \u001b[0maxis_name\u001b[0m \u001b[0;34m=\u001b[0m \u001b[0mcore\u001b[0m\u001b[0;34m.\u001b[0m\u001b[0mno_axis_name\u001b[0m \u001b[0;32mif\u001b[0m \u001b[0maxis_name\u001b[0m \u001b[0;32mis\u001b[0m \u001b[0;32mNone\u001b[0m \u001b[0;32melse\u001b[0m \u001b[0maxis_name\u001b[0m\u001b[0;34m\u001b[0m\n",
       "\u001b[0;34m\u001b[0m\u001b[0;34m\u001b[0m\n",
       "\u001b[0;34m\u001b[0m  \u001b[0;32mif\u001b[0m \u001b[0misinstance\u001b[0m\u001b[0;34m(\u001b[0m\u001b[0min_axes\u001b[0m\u001b[0;34m,\u001b[0m \u001b[0mlist\u001b[0m\u001b[0;34m)\u001b[0m\u001b[0;34m:\u001b[0m\u001b[0;34m\u001b[0m\n",
       "\u001b[0;34m\u001b[0m    \u001b[0;31m# To be a tree prefix of the positional args tuple, in_axes can never be a\u001b[0m\u001b[0;34m\u001b[0m\n",
       "\u001b[0;34m\u001b[0m    \u001b[0;31m# list: if in_axes is not a leaf, it must be a tuple of trees. However,\u001b[0m\u001b[0;34m\u001b[0m\n",
       "\u001b[0;34m\u001b[0m    \u001b[0;31m# in cases like these users expect tuples and lists to be treated\u001b[0m\u001b[0;34m\u001b[0m\n",
       "\u001b[0;34m\u001b[0m    \u001b[0;31m# essentially interchangeably, so we canonicalize lists to tuples here\u001b[0m\u001b[0;34m\u001b[0m\n",
       "\u001b[0;34m\u001b[0m    \u001b[0;31m# rather than raising an error. https://github.com/google/jax/issues/2367\u001b[0m\u001b[0;34m\u001b[0m\n",
       "\u001b[0;34m\u001b[0m    \u001b[0min_axes\u001b[0m \u001b[0;34m=\u001b[0m \u001b[0mtuple\u001b[0m\u001b[0;34m(\u001b[0m\u001b[0min_axes\u001b[0m\u001b[0;34m)\u001b[0m\u001b[0;34m\u001b[0m\n",
       "\u001b[0;34m\u001b[0m\u001b[0;34m\u001b[0m\n",
       "\u001b[0;34m\u001b[0m  \u001b[0;32mif\u001b[0m \u001b[0;32mnot\u001b[0m \u001b[0mall\u001b[0m\u001b[0;34m(\u001b[0m\u001b[0mtype\u001b[0m\u001b[0;34m(\u001b[0m\u001b[0ml\u001b[0m\u001b[0;34m)\u001b[0m \u001b[0;32mis\u001b[0m \u001b[0mint\u001b[0m \u001b[0;32mor\u001b[0m \u001b[0mtype\u001b[0m\u001b[0;34m(\u001b[0m\u001b[0ml\u001b[0m\u001b[0;34m)\u001b[0m \u001b[0;32min\u001b[0m \u001b[0mbatching\u001b[0m\u001b[0;34m.\u001b[0m\u001b[0mspec_types\u001b[0m\u001b[0;34m\u001b[0m\n",
       "\u001b[0;34m\u001b[0m             \u001b[0;32mfor\u001b[0m \u001b[0ml\u001b[0m \u001b[0;32min\u001b[0m \u001b[0mtree_leaves\u001b[0m\u001b[0;34m(\u001b[0m\u001b[0min_axes\u001b[0m\u001b[0;34m)\u001b[0m\u001b[0;34m)\u001b[0m\u001b[0;34m:\u001b[0m\u001b[0;34m\u001b[0m\n",
       "\u001b[0;34m\u001b[0m    \u001b[0;32mraise\u001b[0m \u001b[0mTypeError\u001b[0m\u001b[0;34m(\u001b[0m\u001b[0;34m\"vmap in_axes must be an int, None, or (nested) container \"\u001b[0m\u001b[0;34m\u001b[0m\n",
       "\u001b[0;34m\u001b[0m                    \u001b[0;34mf\"with those types as leaves, but got {in_axes}.\"\u001b[0m\u001b[0;34m)\u001b[0m\u001b[0;34m\u001b[0m\n",
       "\u001b[0;34m\u001b[0m  \u001b[0;32mif\u001b[0m \u001b[0;32mnot\u001b[0m \u001b[0mall\u001b[0m\u001b[0;34m(\u001b[0m\u001b[0mtype\u001b[0m\u001b[0;34m(\u001b[0m\u001b[0ml\u001b[0m\u001b[0;34m)\u001b[0m \u001b[0;32mis\u001b[0m \u001b[0mint\u001b[0m \u001b[0;32mor\u001b[0m \u001b[0mtype\u001b[0m\u001b[0;34m(\u001b[0m\u001b[0ml\u001b[0m\u001b[0;34m)\u001b[0m \u001b[0;32min\u001b[0m \u001b[0mbatching\u001b[0m\u001b[0;34m.\u001b[0m\u001b[0mspec_types\u001b[0m\u001b[0;34m\u001b[0m\n",
       "\u001b[0;34m\u001b[0m               \u001b[0;32mfor\u001b[0m \u001b[0ml\u001b[0m \u001b[0;32min\u001b[0m \u001b[0mtree_leaves\u001b[0m\u001b[0;34m(\u001b[0m\u001b[0mout_axes\u001b[0m\u001b[0;34m)\u001b[0m\u001b[0;34m)\u001b[0m\u001b[0;34m:\u001b[0m\u001b[0;34m\u001b[0m\n",
       "\u001b[0;34m\u001b[0m    \u001b[0;32mraise\u001b[0m \u001b[0mTypeError\u001b[0m\u001b[0;34m(\u001b[0m\u001b[0;34m\"vmap out_axes must be an int, None, or (nested) container \"\u001b[0m\u001b[0;34m\u001b[0m\n",
       "\u001b[0;34m\u001b[0m                    \u001b[0;34mf\"with those types as leaves, but got {out_axes}.\"\u001b[0m\u001b[0;34m)\u001b[0m\u001b[0;34m\u001b[0m\n",
       "\u001b[0;34m\u001b[0m\u001b[0;34m\u001b[0m\n",
       "\u001b[0;34m\u001b[0m  \u001b[0;34m@\u001b[0m\u001b[0mwraps\u001b[0m\u001b[0;34m(\u001b[0m\u001b[0mfun\u001b[0m\u001b[0;34m,\u001b[0m \u001b[0mdocstr\u001b[0m\u001b[0;34m=\u001b[0m\u001b[0mdocstr\u001b[0m\u001b[0;34m)\u001b[0m\u001b[0;34m\u001b[0m\n",
       "\u001b[0;34m\u001b[0m  \u001b[0;34m@\u001b[0m\u001b[0mapi_boundary\u001b[0m\u001b[0;34m\u001b[0m\n",
       "\u001b[0;34m\u001b[0m  \u001b[0;32mdef\u001b[0m \u001b[0mvmap_f\u001b[0m\u001b[0;34m(\u001b[0m\u001b[0;34m*\u001b[0m\u001b[0margs\u001b[0m\u001b[0;34m,\u001b[0m \u001b[0;34m**\u001b[0m\u001b[0mkwargs\u001b[0m\u001b[0;34m)\u001b[0m\u001b[0;34m:\u001b[0m\u001b[0;34m\u001b[0m\n",
       "\u001b[0;34m\u001b[0m    \u001b[0margs_flat\u001b[0m\u001b[0;34m,\u001b[0m \u001b[0min_tree\u001b[0m  \u001b[0;34m=\u001b[0m \u001b[0mtree_flatten\u001b[0m\u001b[0;34m(\u001b[0m\u001b[0;34m(\u001b[0m\u001b[0margs\u001b[0m\u001b[0;34m,\u001b[0m \u001b[0mkwargs\u001b[0m\u001b[0;34m)\u001b[0m\u001b[0;34m,\u001b[0m \u001b[0mis_leaf\u001b[0m\u001b[0;34m=\u001b[0m\u001b[0mbatching\u001b[0m\u001b[0;34m.\u001b[0m\u001b[0mis_vmappable\u001b[0m\u001b[0;34m)\u001b[0m\u001b[0;34m\u001b[0m\n",
       "\u001b[0;34m\u001b[0m    \u001b[0mf\u001b[0m \u001b[0;34m=\u001b[0m \u001b[0mlu\u001b[0m\u001b[0;34m.\u001b[0m\u001b[0mwrap_init\u001b[0m\u001b[0;34m(\u001b[0m\u001b[0mfun\u001b[0m\u001b[0;34m)\u001b[0m\u001b[0;34m\u001b[0m\n",
       "\u001b[0;34m\u001b[0m    \u001b[0mflat_fun\u001b[0m\u001b[0;34m,\u001b[0m \u001b[0mout_tree\u001b[0m \u001b[0;34m=\u001b[0m \u001b[0mbatching\u001b[0m\u001b[0;34m.\u001b[0m\u001b[0mflatten_fun_for_vmap\u001b[0m\u001b[0;34m(\u001b[0m\u001b[0mf\u001b[0m\u001b[0;34m,\u001b[0m \u001b[0min_tree\u001b[0m\u001b[0;34m)\u001b[0m\u001b[0;34m\u001b[0m\n",
       "\u001b[0;34m\u001b[0m    \u001b[0min_axes_flat\u001b[0m \u001b[0;34m=\u001b[0m \u001b[0mflatten_axes\u001b[0m\u001b[0;34m(\u001b[0m\u001b[0;34m\"vmap in_axes\"\u001b[0m\u001b[0;34m,\u001b[0m \u001b[0min_tree\u001b[0m\u001b[0;34m,\u001b[0m \u001b[0;34m(\u001b[0m\u001b[0min_axes\u001b[0m\u001b[0;34m,\u001b[0m \u001b[0;36m0\u001b[0m\u001b[0;34m)\u001b[0m\u001b[0;34m,\u001b[0m \u001b[0mkws\u001b[0m\u001b[0;34m=\u001b[0m\u001b[0;32mTrue\u001b[0m\u001b[0;34m)\u001b[0m\u001b[0;34m\u001b[0m\n",
       "\u001b[0;34m\u001b[0m    \u001b[0maxis_size_\u001b[0m \u001b[0;34m=\u001b[0m \u001b[0;34m(\u001b[0m\u001b[0maxis_size\u001b[0m \u001b[0;32mif\u001b[0m \u001b[0maxis_size\u001b[0m \u001b[0;32mis\u001b[0m \u001b[0;32mnot\u001b[0m \u001b[0;32mNone\u001b[0m \u001b[0;32melse\u001b[0m\u001b[0;34m\u001b[0m\n",
       "\u001b[0;34m\u001b[0m                  \u001b[0m_mapped_axis_size\u001b[0m\u001b[0;34m(\u001b[0m\u001b[0mfun\u001b[0m\u001b[0;34m,\u001b[0m \u001b[0min_tree\u001b[0m\u001b[0;34m,\u001b[0m \u001b[0margs_flat\u001b[0m\u001b[0;34m,\u001b[0m \u001b[0min_axes_flat\u001b[0m\u001b[0;34m,\u001b[0m \u001b[0;34m\"vmap\"\u001b[0m\u001b[0;34m)\u001b[0m\u001b[0;34m)\u001b[0m\u001b[0;34m\u001b[0m\n",
       "\u001b[0;34m\u001b[0m    \u001b[0mout_flat\u001b[0m \u001b[0;34m=\u001b[0m \u001b[0mbatching\u001b[0m\u001b[0;34m.\u001b[0m\u001b[0mbatch\u001b[0m\u001b[0;34m(\u001b[0m\u001b[0;34m\u001b[0m\n",
       "\u001b[0;34m\u001b[0m        \u001b[0mflat_fun\u001b[0m\u001b[0;34m,\u001b[0m \u001b[0maxis_name\u001b[0m\u001b[0;34m,\u001b[0m \u001b[0maxis_size_\u001b[0m\u001b[0;34m,\u001b[0m \u001b[0min_axes_flat\u001b[0m\u001b[0;34m,\u001b[0m\u001b[0;34m\u001b[0m\n",
       "\u001b[0;34m\u001b[0m        \u001b[0;32mlambda\u001b[0m\u001b[0;34m:\u001b[0m \u001b[0mflatten_axes\u001b[0m\u001b[0;34m(\u001b[0m\u001b[0;34m\"vmap out_axes\"\u001b[0m\u001b[0;34m,\u001b[0m \u001b[0mout_tree\u001b[0m\u001b[0;34m(\u001b[0m\u001b[0;34m)\u001b[0m\u001b[0;34m,\u001b[0m \u001b[0mout_axes\u001b[0m\u001b[0;34m)\u001b[0m\u001b[0;34m,\u001b[0m\u001b[0;34m\u001b[0m\n",
       "\u001b[0;34m\u001b[0m        \u001b[0mspmd_axis_name\u001b[0m\u001b[0;34m=\u001b[0m\u001b[0mspmd_axis_name\u001b[0m\u001b[0;34m\u001b[0m\n",
       "\u001b[0;34m\u001b[0m    \u001b[0;34m)\u001b[0m\u001b[0;34m.\u001b[0m\u001b[0mcall_wrapped\u001b[0m\u001b[0;34m(\u001b[0m\u001b[0;34m*\u001b[0m\u001b[0margs_flat\u001b[0m\u001b[0;34m)\u001b[0m\u001b[0;34m\u001b[0m\n",
       "\u001b[0;34m\u001b[0m    \u001b[0;32mreturn\u001b[0m \u001b[0mtree_unflatten\u001b[0m\u001b[0;34m(\u001b[0m\u001b[0mout_tree\u001b[0m\u001b[0;34m(\u001b[0m\u001b[0;34m)\u001b[0m\u001b[0;34m,\u001b[0m \u001b[0mout_flat\u001b[0m\u001b[0;34m)\u001b[0m\u001b[0;34m\u001b[0m\n",
       "\u001b[0;34m\u001b[0m\u001b[0;34m\u001b[0m\n",
       "\u001b[0;34m\u001b[0m  \u001b[0;32mreturn\u001b[0m \u001b[0mvmap_f\u001b[0m\u001b[0;34m\u001b[0m\u001b[0;34m\u001b[0m\u001b[0m\n",
       "\u001b[0;31mFile:\u001b[0m      ~/miniconda3/envs/safe_sim2real/lib/python3.9/site-packages/jax/_src/api.py\n",
       "\u001b[0;31mType:\u001b[0m      function\n"
      ]
     },
     "metadata": {},
     "output_type": "display_data"
    }
   ],
   "source": [
    "??jax.vmap"
   ]
  },
  {
   "cell_type": "code",
   "execution_count": null,
   "id": "80476068-2e3d-412f-815f-bacc1bec671d",
   "metadata": {},
   "outputs": [],
   "source": []
  },
  {
   "cell_type": "code",
   "execution_count": null,
   "id": "4d8fc59e-a50d-4f8b-be9e-d1cbc6a17a9b",
   "metadata": {},
   "outputs": [],
   "source": []
  },
  {
   "cell_type": "code",
   "execution_count": null,
   "id": "6b0b4f27-2cca-4cfe-b176-7f701ad2ec97",
   "metadata": {},
   "outputs": [],
   "source": []
  }
 ],
 "metadata": {
  "kernelspec": {
   "display_name": "Python 3 (ipykernel)",
   "language": "python",
   "name": "python3"
  },
  "language_info": {
   "codemirror_mode": {
    "name": "ipython",
    "version": 3
   },
   "file_extension": ".py",
   "mimetype": "text/x-python",
   "name": "python",
   "nbconvert_exporter": "python",
   "pygments_lexer": "ipython3",
   "version": "3.9.15"
  }
 },
 "nbformat": 4,
 "nbformat_minor": 5
}
